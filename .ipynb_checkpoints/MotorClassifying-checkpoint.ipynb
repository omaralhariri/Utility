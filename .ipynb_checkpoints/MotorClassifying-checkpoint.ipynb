{
 "cells": [
  {
   "cell_type": "markdown",
   "id": "d40a80fd",
   "metadata": {},
   "source": [
    "## Driving Tool Classifier!\n",
    "\n",
    "A simple model to classify the driving tool"
   ]
  },
  {
   "cell_type": "code",
   "execution_count": 28,
   "id": "918fa7f8",
   "metadata": {},
   "outputs": [],
   "source": [
    "from fastai.vision.all import *\n",
    "from fastai.vision.widgets import *"
   ]
  },
  {
   "cell_type": "code",
   "execution_count": 34,
   "id": "2d5ba29d",
   "metadata": {},
   "outputs": [],
   "source": [
    "# import pathlib\n",
    "# import platform\n",
    "# plt = platform.system()\n",
    "# if plt == 'Windows': pathlib.PosixPath = pathlib.WindowsPath\n",
    "import urllib.request\n",
    "\n",
    "model_url = 'https://drive.google.com/file/d/1NxNkoF7u5NetLmpa9ISzGnGjvTBsI93K/view?usp=sharing'\n",
    "urllib.request.retrieve(model_url, 'motor.pkl')\n",
    "\n",
    "# path = Path()\n",
    "learn_inf = load_learner(Path(\".\"), 'motor.pkl')\n",
    "\n",
    "btn_upload = widgets.FileUpload()\n",
    "out_pl = widgets.Output()\n",
    "lbl_pred = widgets.Label()\n",
    "btn_run = widgets.Button(description='Classify')"
   ]
  },
  {
   "cell_type": "code",
   "execution_count": 35,
   "id": "b43d4e4b",
   "metadata": {},
   "outputs": [],
   "source": [
    "def on_click_classify(change):\n",
    "# def on_data_change(change):\n",
    "    lbl_pred.value = ''\n",
    "    img = PILImage.create(btn_upload.data[-1])\n",
    "    out_pl.clear_output()\n",
    "    with out_pl: display(img.to_thumb(128, 128))\n",
    "    pred,pred_idx,probs = learn_inf.predict(img)\n",
    "    lbl_pred.value = f'Prediction: {pred}; Probability: {probs[pred_idx]:.04f}'\n",
    "\n",
    "btn_run.on_click(on_click_classify)\n",
    "\n",
    "# btn_upload.observe(on_data_change, names=['data'])"
   ]
  },
  {
   "cell_type": "code",
   "execution_count": 37,
   "id": "43910ebe",
   "metadata": {},
   "outputs": [
    {
     "data": {
      "application/vnd.jupyter.widget-view+json": {
       "model_id": "0f5e73fd4c7246ac938dc42a385b9898",
       "version_major": 2,
       "version_minor": 0
      },
      "text/plain": [
       "VBox(children=(Label(value='Select your bear!'), FileUpload(value={'sccccc.jpg': {'metadata': {'name': 'sccccc…"
      ]
     },
     "metadata": {},
     "output_type": "display_data"
    }
   ],
   "source": [
    "display(VBox([widgets.Label('Select your bear!'), btn_upload, btn_run, out_pl, lbl_pred]))\n",
    "\n",
    "# display(VBox([widgets.Label('Select your bear!'), btn_upload, out_pl, lbl_pred]))"
   ]
  },
  {
   "cell_type": "code",
   "execution_count": null,
   "id": "a1e053de",
   "metadata": {},
   "outputs": [],
   "source": []
  }
 ],
 "metadata": {
  "kernelspec": {
   "display_name": "Python 3",
   "language": "python",
   "name": "python3"
  },
  "language_info": {
   "codemirror_mode": {
    "name": "ipython",
    "version": 3
   },
   "file_extension": ".py",
   "mimetype": "text/x-python",
   "name": "python",
   "nbconvert_exporter": "python",
   "pygments_lexer": "ipython3",
   "version": "3.8.8"
  }
 },
 "nbformat": 4,
 "nbformat_minor": 5
}
